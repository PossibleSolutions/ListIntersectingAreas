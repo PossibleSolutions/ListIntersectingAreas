{
 "cells": [
  {
   "cell_type": "markdown",
   "metadata": {},
   "source": [
    "# Generate a list of intersecting areas for input spatial data\n",
    "\n",
    "Input:\n",
    "1. Spatial data (points, polygons, etc.)\n",
    "2. Spatial data to check for overlap, e.g. conservation areas, habitat zones\n",
    "\n",
    "Output: Input spatial data with added information about overlap\n",
    "\n",
    "Principle:\n",
    "User has spatial data that needs to be checked for e.g. conservation area overlap. User can put all input conservation area (or such) datasets\n",
    "to a single folder, that is iterated layer by layer for a new \"Areas\" column that lists the name of the layers that intersect input data.\n",
    "Additional variables can be inspected in similar manner, e.g. if the areas-datasets have a variable named \"name\", the folder can be iterated\n",
    "to create a new column \"names\" that lists all the names mentioned in the overlapping conservation area.\n",
    "\n"
   ]
  },
  {
   "cell_type": "code",
   "execution_count": 1,
   "metadata": {},
   "outputs": [],
   "source": [
    "#import necessary modules\n",
    "import pandas as pd\n",
    "import geopandas as gpd\n",
    "import fiona\n",
    "import os\n",
    "from datetime import date\n",
    "import numpy as  np\n",
    "from shapely import wkt\n",
    "import dask_geopandas as dask_gpd\n",
    "import pyogrio\n"
   ]
  },
  {
   "cell_type": "markdown",
   "metadata": {},
   "source": [
    "# Excel to spatial data\n",
    "\n",
    "read your input data from a table to spatial format"
   ]
  },
  {
   "cell_type": "code",
   "execution_count": 4,
   "metadata": {},
   "outputs": [
    {
     "name": "stdout",
     "output_type": "stream",
     "text": [
      "87526\n"
     ]
    }
   ],
   "source": [
    "point = r\"path\\pisteet_putkilot_ja_Sammalet.xlsx\"\n",
    "df = pd.read_excel(point)\n",
    "print(len(df))\n",
    "df['geometry'] = df['ETRS_TM35FIN_WKT'].apply(wkt.loads)\n",
    "gdf = gpd.GeoDataFrame(df, geometry='geometry')\n",
    "gdf = gdf.set_crs(epsg=3067)\n",
    "gdf.to_parquet(r\"path\\point.parquet\")\n",
    "#gdf.to_file(r\"path\\point.gpkg\", driver='GPKG')"
   ]
  },
  {
   "cell_type": "code",
   "execution_count": null,
   "metadata": {},
   "outputs": [
    {
     "data": {
      "text/plain": [
       "<AxesSubplot: >"
      ]
     },
     "metadata": {},
     "output_type": "display_data"
    },
    {
     "data": {
      "image/png": "[encoded data removed]",
      "text/plain": [
       "<Figure size 640x480 with 1 Axes>"
      ]
     },
     "metadata": {},
     "output_type": "display_data"
    }
   ],
   "source": [
    "gdf.plot()"
   ]
  },
  {
   "cell_type": "markdown",
   "metadata": {},
   "source": [
    "# geopackage layers to geopackages\n",
    "\n",
    "The method works faster and less error prone on datasets with only one layer, \n",
    "so here layers are saved as own datafiles. If all your datasets already include only one layer,\n",
    "this can be skipped\n",
    "\n",
    "The output folder is used as the input folder later to check overlap between each layer"
   ]
  },
  {
   "cell_type": "code",
   "execution_count": 4,
   "metadata": {},
   "outputs": [
    {
     "name": "stdout",
     "output_type": "stream",
     "text": [
      "yksityiset_suojelualueet 16169\n",
      "valtion_maiden_suojelualueet 1090\n",
      "eramaaalueet 12\n",
      "luonnonsuojeluohjelmaalueet 2362\n",
      "metshallituksen_kiinteistt_kaikki 45979\n",
      "metshallituksen_kiinteistt_luonnonsuojelutarkoituksiin 21546\n",
      "natura_viivamaiset_kohteet_toteuttamistapa 15\n",
      "natura_aluemaiset_kohteet_toteuttamistapa 2270\n",
      "natura_2000__sac_mannersuomi_aluemaiset 1642\n",
      "natura_2000__spa_mannersuomi 458\n",
      "natura_2000__sci__mannersuomi 3\n",
      "natura_2000__sci_ahvenanmaa_aluemaiset 74\n",
      "natura_2000__spa_ahvenanmaa 12\n",
      "soidensuojelun_tydennysehdotuksen_kohteet 747\n",
      "toteutuneet_valtionmaan_kohteet__luonnonsuojelulailla_suojellut_ 407\n",
      "toteutuneet_valtionmaan_kohteet_metshallituksen_pysyvll_ptksell_suojellut 565\n",
      "valtion_muut_suojelualueet 3502\n"
     ]
    }
   ],
   "source": [
    "source_folder = r\"path\\ConservationAreas\"\n",
    "destination_folder = r\"path\\ConservationAreas2\"\n",
    "\n",
    "def save_layers_as_geopackages(source_folder, destination_folder):\n",
    "    # Iterate through all files in the source folder\n",
    "    for filename in os.listdir(source_folder):\n",
    "        if filename.endswith(\".gpkg\"): #change this if other than gpkg\n",
    "            # Load the geopackage\n",
    "            gpkg_path = os.path.join(source_folder, filename)\n",
    "            \n",
    "            # Get the list of layers in the geopackage using fiona\n",
    "            layers = fiona.listlayers(gpkg_path)\n",
    "            \n",
    "            # Save each layer as a separate geopackage in the destination folder\n",
    "            for layer in layers:\n",
    "                layer_gdf = gpd.read_file(gpkg_path, layer=layer)\n",
    "                output_path = os.path.join(destination_folder, f\"{layer}.gpkg\")\n",
    "                layer_gdf.to_file(output_path, driver=\"GPKG\")\n",
    "                print(layer, len(layer_gdf))\n",
    "\n",
    "\n",
    "save_layers_as_geopackages(source_folder, destination_folder)\n"
   ]
  },
  {
   "cell_type": "markdown",
   "metadata": {},
   "source": [
    "# Conservation area overlap"
   ]
  },
  {
   "cell_type": "code",
   "execution_count": 9,
   "metadata": {},
   "outputs": [
    {
     "name": "stdout",
     "output_type": "stream",
     "text": [
      "12674\n",
      "eramaaalueet.gpkg 12\n",
      "No overlap with eramaaalueet\n",
      "luonnonsuojeluohjelmaalueet.gpkg 2362\n",
      "no column nimisuomi\n",
      "no column suojeluperustetunnus\n",
      "metshallituksen_kiinteistt_kaikki.gpkg 45979\n",
      "no column nimi\n",
      "no column nimisuomi\n",
      "no column suojeluperustetunnus\n",
      "metshallituksen_kiinteistt_luonnonsuojelutarkoituksiin.gpkg 21546\n",
      "no column nimi\n",
      "no column nimisuomi\n",
      "no column suojeluperustetunnus\n",
      "natura_2000__sac_mannersuomi_aluemaiset.gpkg 1642\n",
      "no column nimi\n",
      "natura_2000__sci_ahvenanmaa_aluemaiset.gpkg 74\n",
      "no column nimi\n",
      "natura_2000__sci__mannersuomi.gpkg 3\n",
      "No overlap with natura_2000__sci__mannersuomi\n",
      "natura_2000__spa_ahvenanmaa.gpkg 12\n",
      "No overlap with natura_2000__spa_ahvenanmaa\n",
      "natura_2000__spa_mannersuomi.gpkg 458\n",
      "No overlap with natura_2000__spa_mannersuomi\n",
      "natura_aluemaiset_kohteet_toteuttamistapa.gpkg 2270\n",
      "no column nimisuomi\n",
      "no column suojeluperustetunnus\n",
      "natura_viivamaiset_kohteet_toteuttamistapa.gpkg 15\n",
      "No overlap with natura_viivamaiset_kohteet_toteuttamistapa\n",
      "soidensuojelun_tydennysehdotuksen_kohteet.gpkg 747\n",
      "No overlap with soidensuojelun_tydennysehdotuksen_kohteet\n",
      "toteutuneet_valtionmaan_kohteet_metshallituksen_pysyvll_ptksell_suojellut.gpkg 565\n",
      "no column nimi\n",
      "no column nimisuomi\n",
      "no column suojeluperustetunnus\n",
      "toteutuneet_valtionmaan_kohteet__luonnonsuojelulailla_suojellut_.gpkg 407\n",
      "No overlap with toteutuneet_valtionmaan_kohteet__luonnonsuojelulailla_suojellut_\n",
      "valtion_maiden_suojelualueet.gpkg 1090\n",
      "no column nimisuomi\n",
      "no column suojeluperustetunnus\n",
      "valtion_muut_suojelualueet.gpkg 3502\n",
      "no column nimi\n",
      "no column nimisuomi\n",
      "no column suojeluperustetunnus\n",
      "yksityiset_suojelualueet.gpkg 16169\n",
      "no column nimisuomi\n",
      "no column suojeluperustetunnus\n"
     ]
    },
    {
     "data": {
      "text/plain": [
       "12674"
      ]
     },
     "execution_count": 9,
     "metadata": {},
     "output_type": "execute_result"
    }
   ],
   "source": [
    "speciespath = r\"path\\point.parquet\"\n",
    "folder_path = r'path\\ConservationAreas2'\n",
    "species = gpd.read_parquet(speciespath)\n",
    "species.sindex #spatial index to possibly speed up processes\n",
    "print(len(species))\n",
    "\n",
    "# List of column names to read. They are used to create new columns with desired names\n",
    "# alter ReadColumnNames to change which columns are handled when iterating through the folder and change WriteColumnNames accordingly\n",
    "# if there is already a \"layer\" column, the join is appending _right to it, use it instead if so\n",
    "WriteColumnNames = ['Areas','Names', 'Names2','Codes']\n",
    "if 'layer' in gdf.columns:\n",
    "    ReadColumnNames = ['layer_right','nimi', 'nimisuomi','suojeluperustetunnus']\n",
    "else:\n",
    "    ReadColumnNames = ['layer','nimi', 'nimisuomi','suojeluperustetunnus']\n",
    "\n",
    "# Creating the new columns\n",
    "for column in WriteColumnNames:\n",
    "    species[column] = ''\n",
    "\n",
    "for filename in os.listdir(folder_path):\n",
    "    if filename.endswith(\".gpkg\"):\n",
    "        try:\n",
    "            file_path = os.path.join(folder_path, filename)\n",
    "            ddf = dask_gpd.read_file(file_path, npartitions=2)\n",
    "            gdf = ddf.compute()\n",
    "        except:\n",
    "            gdf = gpd.read_file(filename)\n",
    "        print(filename, len(gdf))\n",
    "        \n",
    "        # Add the layer name to the GeoDataFrame\n",
    "        # Extract the layer name without the file extension\n",
    "        layer_name = os.path.splitext(filename)[0]\n",
    "        gdf['layer'] = layer_name\n",
    "\n",
    "\n",
    "        # Perform spatial join\n",
    "        areas_on_species = gpd.sjoin(species, gdf, how='left')\n",
    "        #print(len(areas_on_species),len(species))\n",
    "        if len(areas_on_species) != len(species):\n",
    "            for i in range(len(WriteColumnNames)):\n",
    "                # Filter rows where 'layer' is not null\n",
    "                # if there is already a \"layer\" column, the join is appending _right to it, use it instead if so\n",
    "                try:\n",
    "                    filtered_df = areas_on_species[areas_on_species['layer'].notnull()]\n",
    "                except:\n",
    "                    filtered_df = areas_on_species[areas_on_species['layer_right'].notnull()]\n",
    "                try:\n",
    "                    # Create a dictionary to map 'fid' to 'layer'\n",
    "                    layer_map = dict(zip(filtered_df['fid'], filtered_df[ReadColumnNames[i]]))\n",
    "\n",
    "                    # Update the column in 'species' DataFrame where 'fid' is in 'layer_map'\n",
    "                    #if fid in layer_map, add readcolumnname to existing values separated with a comma, else write existing value\n",
    "                    species[WriteColumnNames[i]] = species.apply(lambda row: row[WriteColumnNames[i]] + layer_map[row['fid']] + ', ' if row['fid'] in layer_map else row[WriteColumnNames[i]],axis=1)\n",
    "                except:\n",
    "                    print(f\"no column {ReadColumnNames[i]}\")\n",
    "        else:\n",
    "            print(f\"No overlap with {layer_name}\")\n",
    "\n",
    "# Remove trailing commas from the new columns\n",
    "for column in WriteColumnNames:\n",
    "    species[column] = species[column].str.rstrip(', ')\n",
    "\n",
    "# save\n",
    "species.to_parquet(r\"path\\pointWareas.parquet\")\n",
    "len(species)\n"
   ]
  },
  {
   "cell_type": "markdown",
   "metadata": {},
   "source": [
    "# Zone overlap\n",
    "\n",
    "same as before but for a different folder with different areas/zones"
   ]
  },
  {
   "cell_type": "code",
   "execution_count": 19,
   "metadata": {},
   "outputs": [
    {
     "name": "stdout",
     "output_type": "stream",
     "text": [
      "GeoPackage: EUnLuonnonmaantieteellinenAluejako.gpkg\n",
      "  Layer: ['eun_luonnonmaantieteellinen_alu' 'MultiPolygon']\n",
      "    Number of features: 884\n"
     ]
    },
    {
     "data": {
      "text/plain": [
       "12674"
      ]
     },
     "execution_count": 19,
     "metadata": {},
     "output_type": "execute_result"
    }
   ],
   "source": [
    "speciespath = (r\"path\\pointWareas.parquet\")\n",
    "species = gpd.read_parquet(speciespath)\n",
    "species['Zones'] = ''\n",
    "\n",
    "def list_geopackages_and_layers(folder_path):\n",
    "    # List all files in the folder\n",
    "    files = os.listdir(folder_path)\n",
    "    \n",
    "    # Filter out GeoPackage files\n",
    "    geopackages = [f for f in files if f.endswith('.gpkg')]\n",
    "    \n",
    "    # Dictionary to store layers of each GeoPackage\n",
    "    geopackage_layers = {}\n",
    "    \n",
    "    for gpkg in geopackages:\n",
    "        gpkg_path = os.path.join(folder_path, gpkg)\n",
    "        try:\n",
    "            layers = pyogrio.list_layers(gpkg_path)\n",
    "            geopackage_layers[gpkg] = layers\n",
    "        except Exception as e:\n",
    "            print(f\"Error reading {gpkg}: {e}\")\n",
    "    \n",
    "    return geopackage_layers\n",
    "\n",
    "# Example usage\n",
    "folder_path = r'path\\Zones'\n",
    "geopackage_layers = list_geopackages_and_layers(folder_path)\n",
    "\n",
    "for gpkg, layers in geopackage_layers.items():\n",
    "    print(f\"GeoPackage: {gpkg}\")\n",
    "    for layer in layers:\n",
    "        print(f\"  Layer: {layer}\")\n",
    "        # Read the layer using GeoPandas\n",
    "        filename = os.path.join(folder_path, gpkg)\n",
    "        try:\n",
    "            ddf = dask_gpd.read_file(filename, npartitions=2)\n",
    "            gdf = ddf.compute()\n",
    "        except:\n",
    "            gdf = gpd.read_file(filename, layer=layer[0])\n",
    "        print(f\"    Number of features: {len(gdf)}\")\n",
    "        \n",
    "        # Add the layer name to the GeoDataFrame\n",
    "        gdf['layer'] = layer[0]\n",
    "        \n",
    "        # Perform spatial join\n",
    "        areas_on_species = gpd.sjoin(species, gdf, how='left')\n",
    "        #print(len(species),len(areas_on_species))\n",
    "\n",
    "        # Filter rows where 'layer' is not null\n",
    "        filtered_df = areas_on_species[areas_on_species['layer'].notnull()]\n",
    "        #filtered_df = areas_on_species[areas_on_species['layer_right'].notnull()] # if 'layer' keyerror, uncomment\n",
    "\n",
    "        # Create a dictionary to map 'fid' to 'nimi'\n",
    "        layer_map = dict(zip(filtered_df['fid'], filtered_df['nimi']))\n",
    "\n",
    "        # Update 'Areas' column in 'species' DataFrame where 'fid' is in 'intersections'\n",
    "        species['Zones'] = species.apply(lambda row: row['Zones'] + layer_map[row['fid']] + ', ' if row['fid'] in layer_map else row['Zones'], axis=1)\n",
    "\n",
    "\n",
    "species['Zones'] = species['Zones'].str.rstrip(', ')\n",
    "#species['Area_m2'] = species.geometry.area #for polygons\n",
    "\n",
    "#species.to_parquet(r\"path\\polyWareas2.parquet\")\n",
    "species.to_file(r\"path\\polyWareas2.gpkg\")\n",
    "len(species)"
   ]
  }
 ],
 "metadata": {
  "kernelspec": {
   "display_name": "PipEnv",
   "language": "python",
   "name": "python3"
  },
  "language_info": {
   "codemirror_mode": {
    "name": "ipython",
    "version": 3
   },
   "file_extension": ".py",
   "mimetype": "text/x-python",
   "name": "python",
   "nbconvert_exporter": "python",
   "pygments_lexer": "ipython3",
   "version": "3.10.9"
  }
 },
 "nbformat": 4,
 "nbformat_minor": 2
}
